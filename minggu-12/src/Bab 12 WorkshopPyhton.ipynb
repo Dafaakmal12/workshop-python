{
 "cells": [
  {
   "cell_type": "code",
   "execution_count": 1,
   "id": "cbaa73ca",
   "metadata": {},
   "outputs": [
    {
     "data": {
      "text/plain": [
       "2"
      ]
     },
     "execution_count": 1,
     "metadata": {},
     "output_type": "execute_result"
    }
   ],
   "source": [
    "fruits = ['orange', 'apple', 'pear', 'banana', 'kiwi', 'apple', 'banana']\n",
    "fruits.count('apple')"
   ]
  },
  {
   "cell_type": "code",
   "execution_count": 2,
   "id": "b5315666",
   "metadata": {},
   "outputs": [
    {
     "data": {
      "text/plain": [
       "0"
      ]
     },
     "execution_count": 2,
     "metadata": {},
     "output_type": "execute_result"
    }
   ],
   "source": [
    "fruits.count('tangerine')"
   ]
  },
  {
   "cell_type": "code",
   "execution_count": 3,
   "id": "3a640d8a",
   "metadata": {},
   "outputs": [
    {
     "data": {
      "text/plain": [
       "3"
      ]
     },
     "execution_count": 3,
     "metadata": {},
     "output_type": "execute_result"
    }
   ],
   "source": [
    "fruits.index('banana')"
   ]
  },
  {
   "cell_type": "code",
   "execution_count": 4,
   "id": "6407d36a",
   "metadata": {},
   "outputs": [
    {
     "data": {
      "text/plain": [
       "6"
      ]
     },
     "execution_count": 4,
     "metadata": {},
     "output_type": "execute_result"
    }
   ],
   "source": [
    "fruits.index('banana', 4)"
   ]
  },
  {
   "cell_type": "code",
   "execution_count": 5,
   "id": "debd373a",
   "metadata": {},
   "outputs": [],
   "source": [
    "fruits.reverse()"
   ]
  },
  {
   "cell_type": "code",
   "execution_count": 6,
   "id": "bf724d3f",
   "metadata": {},
   "outputs": [
    {
     "data": {
      "text/plain": [
       "['banana', 'apple', 'kiwi', 'banana', 'pear', 'apple', 'orange']"
      ]
     },
     "execution_count": 6,
     "metadata": {},
     "output_type": "execute_result"
    }
   ],
   "source": [
    "fruits"
   ]
  },
  {
   "cell_type": "code",
   "execution_count": 7,
   "id": "bb120687",
   "metadata": {},
   "outputs": [],
   "source": [
    "fruits.append('grape')"
   ]
  },
  {
   "cell_type": "code",
   "execution_count": 8,
   "id": "ea3ac7e3",
   "metadata": {},
   "outputs": [
    {
     "data": {
      "text/plain": [
       "['banana', 'apple', 'kiwi', 'banana', 'pear', 'apple', 'orange', 'grape']"
      ]
     },
     "execution_count": 8,
     "metadata": {},
     "output_type": "execute_result"
    }
   ],
   "source": [
    "fruits"
   ]
  },
  {
   "cell_type": "code",
   "execution_count": 9,
   "id": "bf6be78d",
   "metadata": {},
   "outputs": [],
   "source": [
    "fruits.sort()"
   ]
  },
  {
   "cell_type": "code",
   "execution_count": 10,
   "id": "2c9755ed",
   "metadata": {},
   "outputs": [
    {
     "data": {
      "text/plain": [
       "['apple', 'apple', 'banana', 'banana', 'grape', 'kiwi', 'orange', 'pear']"
      ]
     },
     "execution_count": 10,
     "metadata": {},
     "output_type": "execute_result"
    }
   ],
   "source": [
    " fruits"
   ]
  },
  {
   "cell_type": "code",
   "execution_count": 11,
   "id": "cd1c7290",
   "metadata": {},
   "outputs": [
    {
     "data": {
      "text/plain": [
       "'pear'"
      ]
     },
     "execution_count": 11,
     "metadata": {},
     "output_type": "execute_result"
    }
   ],
   "source": [
    "fruits.pop()"
   ]
  },
  {
   "cell_type": "code",
   "execution_count": 12,
   "id": "d06dac06",
   "metadata": {},
   "outputs": [
    {
     "data": {
      "text/plain": [
       "[3, 4, 5, 6, 7]"
      ]
     },
     "execution_count": 12,
     "metadata": {},
     "output_type": "execute_result"
    }
   ],
   "source": [
    "stack = [3, 4, 5]\n",
    "stack.append(6)\n",
    "stack.append(7)\n",
    "stack"
   ]
  },
  {
   "cell_type": "code",
   "execution_count": 13,
   "id": "8417597c",
   "metadata": {},
   "outputs": [
    {
     "data": {
      "text/plain": [
       "7"
      ]
     },
     "execution_count": 13,
     "metadata": {},
     "output_type": "execute_result"
    }
   ],
   "source": [
    "stack.pop()"
   ]
  },
  {
   "cell_type": "code",
   "execution_count": 14,
   "id": "2dd5f889",
   "metadata": {},
   "outputs": [
    {
     "data": {
      "text/plain": [
       "[3, 4, 5, 6]"
      ]
     },
     "execution_count": 14,
     "metadata": {},
     "output_type": "execute_result"
    }
   ],
   "source": [
    "stack"
   ]
  },
  {
   "cell_type": "code",
   "execution_count": 15,
   "id": "48bae26c",
   "metadata": {},
   "outputs": [
    {
     "data": {
      "text/plain": [
       "6"
      ]
     },
     "execution_count": 15,
     "metadata": {},
     "output_type": "execute_result"
    }
   ],
   "source": [
    "stack.pop()"
   ]
  },
  {
   "cell_type": "code",
   "execution_count": 16,
   "id": "efb94313",
   "metadata": {},
   "outputs": [
    {
     "data": {
      "text/plain": [
       "5"
      ]
     },
     "execution_count": 16,
     "metadata": {},
     "output_type": "execute_result"
    }
   ],
   "source": [
    "stack.pop()"
   ]
  },
  {
   "cell_type": "code",
   "execution_count": 17,
   "id": "ad136269",
   "metadata": {},
   "outputs": [
    {
     "data": {
      "text/plain": [
       "[3, 4]"
      ]
     },
     "execution_count": 17,
     "metadata": {},
     "output_type": "execute_result"
    }
   ],
   "source": [
    "stack"
   ]
  },
  {
   "cell_type": "code",
   "execution_count": 18,
   "id": "8b99bcec",
   "metadata": {},
   "outputs": [
    {
     "data": {
      "text/plain": [
       "'Eric'"
      ]
     },
     "execution_count": 18,
     "metadata": {},
     "output_type": "execute_result"
    }
   ],
   "source": [
    "from collections import deque\n",
    "queue = deque([\"Eric\", \"John\", \"Michael\"])\n",
    "queue.append(\"Terry\")       \n",
    "queue.append(\"Graham\")       \n",
    "queue.popleft() "
   ]
  },
  {
   "cell_type": "code",
   "execution_count": 19,
   "id": "ff18ea0b",
   "metadata": {},
   "outputs": [
    {
     "data": {
      "text/plain": [
       "'John'"
      ]
     },
     "execution_count": 19,
     "metadata": {},
     "output_type": "execute_result"
    }
   ],
   "source": [
    "queue.popleft()"
   ]
  },
  {
   "cell_type": "code",
   "execution_count": 20,
   "id": "6bdb2d08",
   "metadata": {},
   "outputs": [
    {
     "data": {
      "text/plain": [
       "deque(['Michael', 'Terry', 'Graham'])"
      ]
     },
     "execution_count": 20,
     "metadata": {},
     "output_type": "execute_result"
    }
   ],
   "source": [
    "queue"
   ]
  },
  {
   "cell_type": "code",
   "execution_count": 21,
   "id": "4fb45104",
   "metadata": {},
   "outputs": [
    {
     "data": {
      "text/plain": [
       "[0, 1, 4, 9, 16, 25, 36, 49, 64, 81]"
      ]
     },
     "execution_count": 21,
     "metadata": {},
     "output_type": "execute_result"
    }
   ],
   "source": [
    ">>> squares = []\n",
    ">>> for x in range(10):\n",
    "...     squares.append(x**2)\n",
    "...\n",
    ">>> squares"
   ]
  },
  {
   "cell_type": "code",
   "execution_count": 22,
   "id": "9da18d6d",
   "metadata": {},
   "outputs": [
    {
     "data": {
      "text/plain": [
       "[(1, 3), (1, 4), (2, 3), (2, 1), (2, 4), (3, 1), (3, 4)]"
      ]
     },
     "execution_count": 22,
     "metadata": {},
     "output_type": "execute_result"
    }
   ],
   "source": [
    "[(x, y) for x in [1,2,3] for y in [3,1,4] if x != y]"
   ]
  },
  {
   "cell_type": "code",
   "execution_count": 23,
   "id": "52597478",
   "metadata": {},
   "outputs": [
    {
     "data": {
      "text/plain": [
       "[(1, 3), (1, 4), (2, 3), (2, 1), (2, 4), (3, 1), (3, 4)]"
      ]
     },
     "execution_count": 23,
     "metadata": {},
     "output_type": "execute_result"
    }
   ],
   "source": [
    ">>> combs = []\n",
    ">>> for x in [1,2,3]:\n",
    "...     for y in [3,1,4]:\n",
    "...         if x != y:\n",
    "...             combs.append((x, y))\n",
    "...\n",
    ">>> combs"
   ]
  },
  {
   "cell_type": "code",
   "execution_count": 24,
   "id": "42f351b2",
   "metadata": {},
   "outputs": [
    {
     "data": {
      "text/plain": [
       "[-8, -4, 0, 4, 8]"
      ]
     },
     "execution_count": 24,
     "metadata": {},
     "output_type": "execute_result"
    }
   ],
   "source": [
    "vec = [-4, -2, 0, 2, 4]\n",
    "# create a new list with the values doubled\n",
    "[x*2 for x in vec]"
   ]
  },
  {
   "cell_type": "code",
   "execution_count": 25,
   "id": "736fba24",
   "metadata": {},
   "outputs": [
    {
     "data": {
      "text/plain": [
       "[0, 2, 4]"
      ]
     },
     "execution_count": 25,
     "metadata": {},
     "output_type": "execute_result"
    }
   ],
   "source": [
    "# filter the list to exclude negative numbers\n",
    "[x for x in vec if x >= 0]"
   ]
  },
  {
   "cell_type": "code",
   "execution_count": 26,
   "id": "6c359de6",
   "metadata": {},
   "outputs": [
    {
     "data": {
      "text/plain": [
       "[4, 2, 0, 2, 4]"
      ]
     },
     "execution_count": 26,
     "metadata": {},
     "output_type": "execute_result"
    }
   ],
   "source": [
    "# apply a function to all the elements\n",
    "[abs(x) for x in vec]"
   ]
  },
  {
   "cell_type": "code",
   "execution_count": 27,
   "id": "76c94701",
   "metadata": {},
   "outputs": [
    {
     "data": {
      "text/plain": [
       "['banana', 'loganberry', 'passion fruit']"
      ]
     },
     "execution_count": 27,
     "metadata": {},
     "output_type": "execute_result"
    }
   ],
   "source": [
    "# call a method on each element\n",
    "freshfruit = ['  banana', '  loganberry ', 'passion fruit  ']\n",
    "[weapon.strip() for weapon in freshfruit]"
   ]
  },
  {
   "cell_type": "code",
   "execution_count": 28,
   "id": "7505a650",
   "metadata": {},
   "outputs": [
    {
     "data": {
      "text/plain": [
       "[(0, 0), (1, 1), (2, 4), (3, 9), (4, 16), (5, 25)]"
      ]
     },
     "execution_count": 28,
     "metadata": {},
     "output_type": "execute_result"
    }
   ],
   "source": [
    " # create a list of 2-tuples like (number, square)\n",
    "[(x, x**2) for x in range(6)]"
   ]
  },
  {
   "cell_type": "code",
   "execution_count": 29,
   "id": "b2e646c0",
   "metadata": {},
   "outputs": [
    {
     "ename": "SyntaxError",
     "evalue": "invalid syntax (Temp/ipykernel_4532/2713567252.py, line 2)",
     "output_type": "error",
     "traceback": [
      "\u001b[1;36m  File \u001b[1;32m\"C:\\Users\\MICROS~1\\AppData\\Local\\Temp/ipykernel_4532/2713567252.py\"\u001b[1;36m, line \u001b[1;32m2\u001b[0m\n\u001b[1;33m    [x, x**2 for x in range(6)]\u001b[0m\n\u001b[1;37m             ^\u001b[0m\n\u001b[1;31mSyntaxError\u001b[0m\u001b[1;31m:\u001b[0m invalid syntax\n"
     ]
    }
   ],
   "source": [
    "# the tuple must be parenthesized, otherwise an error is raised\n",
    ">>> [x, x**2 for x in range(6)]"
   ]
  },
  {
   "cell_type": "code",
   "execution_count": 30,
   "id": "03fab675",
   "metadata": {},
   "outputs": [
    {
     "data": {
      "text/plain": [
       "[1, 2, 3, 4, 5, 6, 7, 8, 9]"
      ]
     },
     "execution_count": 30,
     "metadata": {},
     "output_type": "execute_result"
    }
   ],
   "source": [
    "# flatten a list using a listcomp with two 'for'\n",
    ">>> vec = [[1,2,3], [4,5,6], [7,8,9]]\n",
    ">>> [num for elem in vec for num in elem]"
   ]
  },
  {
   "cell_type": "code",
   "execution_count": 31,
   "id": "a3d8ea74",
   "metadata": {},
   "outputs": [
    {
     "data": {
      "text/plain": [
       "['3.1', '3.14', '3.142', '3.1416', '3.14159']"
      ]
     },
     "execution_count": 31,
     "metadata": {},
     "output_type": "execute_result"
    }
   ],
   "source": [
    "from math import pi\n",
    ">>> [str(round(pi, i)) for i in range(1, 6)]"
   ]
  },
  {
   "cell_type": "code",
   "execution_count": 32,
   "id": "27bb989b",
   "metadata": {},
   "outputs": [
    {
     "data": {
      "text/plain": [
       "[[1, 5, 9], [2, 6, 10], [3, 7, 11], [4, 8, 12]]"
      ]
     },
     "execution_count": 32,
     "metadata": {},
     "output_type": "execute_result"
    }
   ],
   "source": [
    ">>> matrix = [\n",
    "...     [1, 2, 3, 4],\n",
    "...     [5, 6, 7, 8],\n",
    "...     [9, 10, 11, 12],\n",
    "... ]\n",
    ">>> [[row[i] for row in matrix] for i in range(4)]"
   ]
  },
  {
   "cell_type": "code",
   "execution_count": 33,
   "id": "c24e6140",
   "metadata": {},
   "outputs": [
    {
     "data": {
      "text/plain": [
       "[[1, 5, 9], [2, 6, 10], [3, 7, 11], [4, 8, 12]]"
      ]
     },
     "execution_count": 33,
     "metadata": {},
     "output_type": "execute_result"
    }
   ],
   "source": [
    "transposed = []\n",
    ">>> for i in range(4):\n",
    "...     transposed.append([row[i] for row in matrix])\n",
    "...\n",
    ">>> transposed"
   ]
  },
  {
   "cell_type": "code",
   "execution_count": 34,
   "id": "62e66ea6",
   "metadata": {},
   "outputs": [
    {
     "data": {
      "text/plain": [
       "[[1, 5, 9], [2, 6, 10], [3, 7, 11], [4, 8, 12]]"
      ]
     },
     "execution_count": 34,
     "metadata": {},
     "output_type": "execute_result"
    }
   ],
   "source": [
    "transposed = []\n",
    ">>> for i in range(4):\n",
    "...     # the following 3 lines implement the nested listcomp\n",
    "...     transposed_row = []\n",
    "...     for row in matrix:\n",
    "...         transposed_row.append(row[i])\n",
    "...     transposed.append(transposed_row)\n",
    "...\n",
    ">>> transposed"
   ]
  },
  {
   "cell_type": "code",
   "execution_count": 35,
   "id": "588902a7",
   "metadata": {},
   "outputs": [
    {
     "data": {
      "text/plain": [
       "[(1, 5, 9), (2, 6, 10), (3, 7, 11), (4, 8, 12)]"
      ]
     },
     "execution_count": 35,
     "metadata": {},
     "output_type": "execute_result"
    }
   ],
   "source": [
    "list(zip(*matrix))"
   ]
  },
  {
   "cell_type": "code",
   "execution_count": 36,
   "id": "21cdab18",
   "metadata": {},
   "outputs": [
    {
     "data": {
      "text/plain": [
       "[1, 66.25, 333, 333, 1234.5]"
      ]
     },
     "execution_count": 36,
     "metadata": {},
     "output_type": "execute_result"
    }
   ],
   "source": [
    ">>> a = [-1, 1, 66.25, 333, 333, 1234.5]\n",
    ">>> del a[0]\n",
    ">>> a"
   ]
  },
  {
   "cell_type": "code",
   "execution_count": 37,
   "id": "2b4eeef0",
   "metadata": {},
   "outputs": [
    {
     "data": {
      "text/plain": [
       "[1, 66.25, 1234.5]"
      ]
     },
     "execution_count": 37,
     "metadata": {},
     "output_type": "execute_result"
    }
   ],
   "source": [
    ">>> del a[2:4]\n",
    ">>> a"
   ]
  },
  {
   "cell_type": "code",
   "execution_count": 38,
   "id": "c9a93ed5",
   "metadata": {},
   "outputs": [
    {
     "data": {
      "text/plain": [
       "[]"
      ]
     },
     "execution_count": 38,
     "metadata": {},
     "output_type": "execute_result"
    }
   ],
   "source": [
    ">>> del a[:]\n",
    ">>> a"
   ]
  },
  {
   "cell_type": "code",
   "execution_count": 39,
   "id": "b6a676e1",
   "metadata": {},
   "outputs": [],
   "source": [
    ">>> del a"
   ]
  },
  {
   "cell_type": "code",
   "execution_count": 40,
   "id": "51d30d40",
   "metadata": {},
   "outputs": [
    {
     "data": {
      "text/plain": [
       "12345"
      ]
     },
     "execution_count": 40,
     "metadata": {},
     "output_type": "execute_result"
    }
   ],
   "source": [
    ">>> t = 12345, 54321, 'hello!'\n",
    ">>> t[0]"
   ]
  },
  {
   "cell_type": "code",
   "execution_count": 41,
   "id": "681ac84f",
   "metadata": {},
   "outputs": [
    {
     "data": {
      "text/plain": [
       "(12345, 54321, 'hello!')"
      ]
     },
     "execution_count": 41,
     "metadata": {},
     "output_type": "execute_result"
    }
   ],
   "source": [
    ">>> t"
   ]
  },
  {
   "cell_type": "code",
   "execution_count": 42,
   "id": "8c040836",
   "metadata": {},
   "outputs": [
    {
     "data": {
      "text/plain": [
       "((12345, 54321, 'hello!'), (1, 2, 3, 4, 5))"
      ]
     },
     "execution_count": 42,
     "metadata": {},
     "output_type": "execute_result"
    }
   ],
   "source": [
    ">>> # Tuples may be nested:\n",
    "... u = t, (1, 2, 3, 4, 5)\n",
    ">>> u"
   ]
  },
  {
   "cell_type": "code",
   "execution_count": 43,
   "id": "6ed35073",
   "metadata": {},
   "outputs": [
    {
     "ename": "TypeError",
     "evalue": "'tuple' object does not support item assignment",
     "output_type": "error",
     "traceback": [
      "\u001b[1;31m---------------------------------------------------------------------------\u001b[0m",
      "\u001b[1;31mTypeError\u001b[0m                                 Traceback (most recent call last)",
      "\u001b[1;32mC:\\Users\\MICROS~1\\AppData\\Local\\Temp/ipykernel_4532/2861882402.py\u001b[0m in \u001b[0;36m<module>\u001b[1;34m\u001b[0m\n\u001b[0;32m      1\u001b[0m \u001b[1;31m# Tuples are immutable:\u001b[0m\u001b[1;33m\u001b[0m\u001b[1;33m\u001b[0m\u001b[0m\n\u001b[1;32m----> 2\u001b[1;33m \u001b[0mt\u001b[0m\u001b[1;33m[\u001b[0m\u001b[1;36m0\u001b[0m\u001b[1;33m]\u001b[0m \u001b[1;33m=\u001b[0m \u001b[1;36m88888\u001b[0m\u001b[1;33m\u001b[0m\u001b[1;33m\u001b[0m\u001b[0m\n\u001b[0m",
      "\u001b[1;31mTypeError\u001b[0m: 'tuple' object does not support item assignment"
     ]
    }
   ],
   "source": [
    ">>> # Tuples are immutable:\n",
    "... t[0] = 88888"
   ]
  },
  {
   "cell_type": "code",
   "execution_count": 44,
   "id": "9e5678d3",
   "metadata": {},
   "outputs": [
    {
     "data": {
      "text/plain": [
       "([1, 2, 3], [3, 2, 1])"
      ]
     },
     "execution_count": 44,
     "metadata": {},
     "output_type": "execute_result"
    }
   ],
   "source": [
    ">>> # but they can contain mutable objects:\n",
    "... v = ([1, 2, 3], [3, 2, 1])\n",
    ">>> v"
   ]
  },
  {
   "cell_type": "code",
   "execution_count": 45,
   "id": "ea4ecdf2",
   "metadata": {},
   "outputs": [
    {
     "data": {
      "text/plain": [
       "0"
      ]
     },
     "execution_count": 45,
     "metadata": {},
     "output_type": "execute_result"
    }
   ],
   "source": [
    ">>> empty = ()\n",
    ">>> singleton = 'hello',  \n",
    ">>> len(empty)"
   ]
  },
  {
   "cell_type": "code",
   "execution_count": 46,
   "id": "1e8cd638",
   "metadata": {},
   "outputs": [
    {
     "data": {
      "text/plain": [
       "('hello',)"
      ]
     },
     "execution_count": 46,
     "metadata": {},
     "output_type": "execute_result"
    }
   ],
   "source": [
    ">>> singleton"
   ]
  },
  {
   "cell_type": "code",
   "execution_count": 47,
   "id": "1f3fa1e8",
   "metadata": {},
   "outputs": [
    {
     "name": "stdout",
     "output_type": "stream",
     "text": [
      "{'orange', 'pear', 'apple', 'banana'}\n"
     ]
    }
   ],
   "source": [
    ">>> basket = {'apple', 'orange', 'apple', 'pear', 'orange', 'banana'}\n",
    ">>> print(basket) "
   ]
  },
  {
   "cell_type": "code",
   "execution_count": 48,
   "id": "5fad7b94",
   "metadata": {},
   "outputs": [
    {
     "data": {
      "text/plain": [
       "True"
      ]
     },
     "execution_count": 48,
     "metadata": {},
     "output_type": "execute_result"
    }
   ],
   "source": [
    ">>> 'orange' in basket  "
   ]
  },
  {
   "cell_type": "code",
   "execution_count": 49,
   "id": "f2d49526",
   "metadata": {},
   "outputs": [
    {
     "data": {
      "text/plain": [
       "False"
      ]
     },
     "execution_count": 49,
     "metadata": {},
     "output_type": "execute_result"
    }
   ],
   "source": [
    ">>> 'crabgrass' in basket"
   ]
  },
  {
   "cell_type": "code",
   "execution_count": 50,
   "id": "70828466",
   "metadata": {},
   "outputs": [
    {
     "data": {
      "text/plain": [
       "{'a', 'b', 'c', 'd', 'r'}"
      ]
     },
     "execution_count": 50,
     "metadata": {},
     "output_type": "execute_result"
    }
   ],
   "source": [
    ">>> # Demonstrate set operations on unique letters from two words\n",
    "...\n",
    ">>> a = set('abracadabra')\n",
    ">>> b = set('alacazam')\n",
    ">>> a  "
   ]
  },
  {
   "cell_type": "code",
   "execution_count": 51,
   "id": "5174ba48",
   "metadata": {},
   "outputs": [
    {
     "data": {
      "text/plain": [
       "{'b', 'd', 'r'}"
      ]
     },
     "execution_count": 51,
     "metadata": {},
     "output_type": "execute_result"
    }
   ],
   "source": [
    ">>> a - b "
   ]
  },
  {
   "cell_type": "code",
   "execution_count": 52,
   "id": "e11924d5",
   "metadata": {},
   "outputs": [
    {
     "data": {
      "text/plain": [
       "{'a', 'b', 'c', 'd', 'l', 'm', 'r', 'z'}"
      ]
     },
     "execution_count": 52,
     "metadata": {},
     "output_type": "execute_result"
    }
   ],
   "source": [
    ">>> a | b"
   ]
  },
  {
   "cell_type": "code",
   "execution_count": 53,
   "id": "5bfb1756",
   "metadata": {},
   "outputs": [
    {
     "data": {
      "text/plain": [
       "{'a', 'c'}"
      ]
     },
     "execution_count": 53,
     "metadata": {},
     "output_type": "execute_result"
    }
   ],
   "source": [
    ">>> a & b "
   ]
  },
  {
   "cell_type": "code",
   "execution_count": 54,
   "id": "ea0ee1f0",
   "metadata": {},
   "outputs": [
    {
     "data": {
      "text/plain": [
       "{'b', 'd', 'l', 'm', 'r', 'z'}"
      ]
     },
     "execution_count": 54,
     "metadata": {},
     "output_type": "execute_result"
    }
   ],
   "source": [
    ">>> a ^ b"
   ]
  },
  {
   "cell_type": "code",
   "execution_count": 55,
   "id": "59ad7d84",
   "metadata": {},
   "outputs": [
    {
     "data": {
      "text/plain": [
       "{'d', 'r'}"
      ]
     },
     "execution_count": 55,
     "metadata": {},
     "output_type": "execute_result"
    }
   ],
   "source": [
    ">>> a = {x for x in 'abracadabra' if x not in 'abc'}\n",
    ">>> a"
   ]
  },
  {
   "cell_type": "code",
   "execution_count": 56,
   "id": "41eba9a7",
   "metadata": {},
   "outputs": [
    {
     "data": {
      "text/plain": [
       "{'jack': 4098, 'sape': 4139, 'guido': 4127}"
      ]
     },
     "execution_count": 56,
     "metadata": {},
     "output_type": "execute_result"
    }
   ],
   "source": [
    ">>> tel = {'jack': 4098, 'sape': 4139}\n",
    ">>> tel['guido'] = 4127\n",
    ">>> tel"
   ]
  },
  {
   "cell_type": "code",
   "execution_count": 57,
   "id": "2b269558",
   "metadata": {},
   "outputs": [
    {
     "data": {
      "text/plain": [
       "4098"
      ]
     },
     "execution_count": 57,
     "metadata": {},
     "output_type": "execute_result"
    }
   ],
   "source": [
    ">>> tel['jack']"
   ]
  },
  {
   "cell_type": "code",
   "execution_count": 58,
   "id": "c31bd881",
   "metadata": {},
   "outputs": [
    {
     "data": {
      "text/plain": [
       "{'jack': 4098, 'guido': 4127, 'irv': 4127}"
      ]
     },
     "execution_count": 58,
     "metadata": {},
     "output_type": "execute_result"
    }
   ],
   "source": [
    ">>> del tel['sape']\n",
    ">>> tel['irv'] = 4127\n",
    ">>> tel"
   ]
  },
  {
   "cell_type": "code",
   "execution_count": 59,
   "id": "26a041e5",
   "metadata": {},
   "outputs": [
    {
     "data": {
      "text/plain": [
       "['jack', 'guido', 'irv']"
      ]
     },
     "execution_count": 59,
     "metadata": {},
     "output_type": "execute_result"
    }
   ],
   "source": [
    ">>> list(tel)"
   ]
  },
  {
   "cell_type": "code",
   "execution_count": 60,
   "id": "82446f23",
   "metadata": {},
   "outputs": [
    {
     "data": {
      "text/plain": [
       "['guido', 'irv', 'jack']"
      ]
     },
     "execution_count": 60,
     "metadata": {},
     "output_type": "execute_result"
    }
   ],
   "source": [
    ">>> sorted(tel)"
   ]
  },
  {
   "cell_type": "code",
   "execution_count": 61,
   "id": "03241e0d",
   "metadata": {},
   "outputs": [
    {
     "data": {
      "text/plain": [
       "True"
      ]
     },
     "execution_count": 61,
     "metadata": {},
     "output_type": "execute_result"
    }
   ],
   "source": [
    ">>> 'guido' in tel"
   ]
  },
  {
   "cell_type": "code",
   "execution_count": 62,
   "id": "6e1b8711",
   "metadata": {},
   "outputs": [
    {
     "data": {
      "text/plain": [
       "False"
      ]
     },
     "execution_count": 62,
     "metadata": {},
     "output_type": "execute_result"
    }
   ],
   "source": [
    ">>> 'jack' not in tel"
   ]
  },
  {
   "cell_type": "code",
   "execution_count": 63,
   "id": "df978eac",
   "metadata": {},
   "outputs": [
    {
     "data": {
      "text/plain": [
       "{'sape': 4139, 'guido': 4127, 'jack': 4098}"
      ]
     },
     "execution_count": 63,
     "metadata": {},
     "output_type": "execute_result"
    }
   ],
   "source": [
    ">>> dict([('sape', 4139), ('guido', 4127), ('jack', 4098)])"
   ]
  },
  {
   "cell_type": "code",
   "execution_count": 64,
   "id": "6ccff71f",
   "metadata": {},
   "outputs": [
    {
     "data": {
      "text/plain": [
       "{2: 4, 4: 16, 6: 36}"
      ]
     },
     "execution_count": 64,
     "metadata": {},
     "output_type": "execute_result"
    }
   ],
   "source": [
    ">>> {x: x**2 for x in (2, 4, 6)}"
   ]
  },
  {
   "cell_type": "code",
   "execution_count": 65,
   "id": "57e031c9",
   "metadata": {},
   "outputs": [
    {
     "data": {
      "text/plain": [
       "{'sape': 4139, 'guido': 4127, 'jack': 4098}"
      ]
     },
     "execution_count": 65,
     "metadata": {},
     "output_type": "execute_result"
    }
   ],
   "source": [
    ">>> dict(sape=4139, guido=4127, jack=4098)"
   ]
  },
  {
   "cell_type": "code",
   "execution_count": 66,
   "id": "820c7b0d",
   "metadata": {},
   "outputs": [
    {
     "name": "stdout",
     "output_type": "stream",
     "text": [
      "gallahad the pure\n",
      "robin the brave\n"
     ]
    }
   ],
   "source": [
    ">>> knights = {'gallahad': 'the pure', 'robin': 'the brave'}\n",
    ">>> for k, v in knights.items():\n",
    "...     print(k, v)"
   ]
  },
  {
   "cell_type": "code",
   "execution_count": 67,
   "id": "0e90a59d",
   "metadata": {},
   "outputs": [
    {
     "name": "stdout",
     "output_type": "stream",
     "text": [
      "0 tic\n",
      "1 tac\n",
      "2 toe\n"
     ]
    }
   ],
   "source": [
    ">>> for i, v in enumerate(['tic', 'tac', 'toe']):\n",
    "...     print(i, v)"
   ]
  },
  {
   "cell_type": "code",
   "execution_count": 68,
   "id": "356af171",
   "metadata": {},
   "outputs": [
    {
     "name": "stdout",
     "output_type": "stream",
     "text": [
      "What is your name?  It is lancelot.\n",
      "What is your quest?  It is the holy grail.\n",
      "What is your favorite color?  It is blue.\n"
     ]
    }
   ],
   "source": [
    ">>> questions = ['name', 'quest', 'favorite color']\n",
    ">>> answers = ['lancelot', 'the holy grail', 'blue']\n",
    ">>> for q, a in zip(questions, answers):\n",
    "...     print('What is your {0}?  It is {1}.'.format(q, a))"
   ]
  },
  {
   "cell_type": "code",
   "execution_count": 69,
   "id": "7b26943e",
   "metadata": {},
   "outputs": [
    {
     "name": "stdout",
     "output_type": "stream",
     "text": [
      "9\n",
      "7\n",
      "5\n",
      "3\n",
      "1\n"
     ]
    }
   ],
   "source": [
    ">>> for i in reversed(range(1, 10, 2)):\n",
    "...     print(i)"
   ]
  },
  {
   "cell_type": "code",
   "execution_count": 70,
   "id": "c971801a",
   "metadata": {},
   "outputs": [
    {
     "name": "stdout",
     "output_type": "stream",
     "text": [
      "apple\n",
      "apple\n",
      "banana\n",
      "orange\n",
      "orange\n",
      "pear\n"
     ]
    }
   ],
   "source": [
    ">>> basket = ['apple', 'orange', 'apple', 'pear', 'orange', 'banana']\n",
    ">>> for i in sorted(basket):\n",
    "...     print(i)"
   ]
  },
  {
   "cell_type": "code",
   "execution_count": 71,
   "id": "72ac0a2a",
   "metadata": {},
   "outputs": [
    {
     "name": "stdout",
     "output_type": "stream",
     "text": [
      "apple\n",
      "banana\n",
      "orange\n",
      "pear\n"
     ]
    }
   ],
   "source": [
    ">>> basket = ['apple', 'orange', 'apple', 'pear', 'orange', 'banana']\n",
    ">>> for f in sorted(set(basket)):\n",
    "...     print(f)"
   ]
  },
  {
   "cell_type": "code",
   "execution_count": 72,
   "id": "8ba0e504",
   "metadata": {},
   "outputs": [
    {
     "data": {
      "text/plain": [
       "[56.2, 51.7, 55.3, 52.5, 47.8]"
      ]
     },
     "execution_count": 72,
     "metadata": {},
     "output_type": "execute_result"
    }
   ],
   "source": [
    ">>> import math\n",
    ">>> raw_data = [56.2, float('NaN'), 51.7, 55.3, 52.5, float('NaN'), 47.8]\n",
    ">>> filtered_data = []\n",
    ">>> for value in raw_data:\n",
    "...     if not math.isnan(value):\n",
    "...         filtered_data.append(value)\n",
    "...\n",
    ">>> filtered_data"
   ]
  },
  {
   "cell_type": "code",
   "execution_count": 73,
   "id": "38ef3225",
   "metadata": {},
   "outputs": [
    {
     "data": {
      "text/plain": [
       "'Trondheim'"
      ]
     },
     "execution_count": 73,
     "metadata": {},
     "output_type": "execute_result"
    }
   ],
   "source": [
    ">>> string1, string2, string3 = '', 'Trondheim', 'Hammer Dance'\n",
    ">>> non_null = string1 or string2 or string3\n",
    ">>> non_null"
   ]
  },
  {
   "cell_type": "code",
   "execution_count": null,
   "id": "d3350828",
   "metadata": {},
   "outputs": [],
   "source": []
  }
 ],
 "metadata": {
  "kernelspec": {
   "display_name": "Python 3 (ipykernel)",
   "language": "python",
   "name": "python3"
  },
  "language_info": {
   "codemirror_mode": {
    "name": "ipython",
    "version": 3
   },
   "file_extension": ".py",
   "mimetype": "text/x-python",
   "name": "python",
   "nbconvert_exporter": "python",
   "pygments_lexer": "ipython3",
   "version": "3.9.7"
  }
 },
 "nbformat": 4,
 "nbformat_minor": 5
}
